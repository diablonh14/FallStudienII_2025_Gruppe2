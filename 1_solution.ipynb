{
 "cells": [
  {
   "cell_type": "code",
   "execution_count": 1,
   "id": "7721c49c-e275-449a-8973-73398fdfb90a",
   "metadata": {},
   "outputs": [],
   "source": [
    "#import libraries\n",
    "import os\n",
    "import pandas as pd\n",
    "import numpy as np\n",
    "import matplotlib.pyplot as plt\n",
    "import seaborn as sns"
   ]
  },
  {
   "cell_type": "code",
   "execution_count": 2,
   "id": "75825085-30bb-4fc5-9749-bac652c30f8a",
   "metadata": {},
   "outputs": [
    {
     "data": {
      "text/plain": [
       "'D:\\\\Dortmund\\\\Case Study\\\\Data'"
      ]
     },
     "execution_count": 2,
     "metadata": {},
     "output_type": "execute_result"
    }
   ],
   "source": [
    "#set the path\n",
    "root = os.path.dirname(os.path.realpath(''))\n",
    "data = os.path.join(root,'Data')\n",
    "data"
   ]
  },
  {
   "cell_type": "code",
   "execution_count": 3,
   "id": "05b309f7-9842-4bf5-9d7d-47b26cb25d58",
   "metadata": {},
   "outputs": [],
   "source": [
    "data_list = os.listdir(data)"
   ]
  },
  {
   "cell_type": "code",
   "execution_count": 6,
   "id": "c69e2053-5aa4-4c11-964c-f6922aa70447",
   "metadata": {},
   "outputs": [
    {
     "data": {
      "text/plain": [
       "datetime.datetime(2025, 4, 16, 17, 35, 1, 305358)"
      ]
     },
     "execution_count": 6,
     "metadata": {},
     "output_type": "execute_result"
    }
   ],
   "source": [
    "from datetime import datetime"
   ]
  },
  {
   "cell_type": "code",
   "execution_count": 16,
   "id": "3b3ca987-043a-4ee1-ae42-bff3d45a10fd",
   "metadata": {},
   "outputs": [
    {
     "name": "stdout",
     "output_type": "stream",
     "text": [
      "Processing SFH10.csv...\n"
     ]
    },
    {
     "name": "stderr",
     "output_type": "stream",
     "text": [
      "C:\\Users\\mi\\AppData\\Local\\Temp\\ipykernel_25472\\2942837334.py:34: FutureWarning: 'T' is deprecated and will be removed in a future version, please use 'min' instead.\n",
      "  time_slice = pd.date_range(start=target_time - pd.Timedelta(minutes=30),  # 2 previous records\n"
     ]
    },
    {
     "name": "stdout",
     "output_type": "stream",
     "text": [
      "Processing SFH11.csv...\n"
     ]
    },
    {
     "name": "stderr",
     "output_type": "stream",
     "text": [
      "C:\\Users\\mi\\AppData\\Local\\Temp\\ipykernel_25472\\2942837334.py:34: FutureWarning: 'T' is deprecated and will be removed in a future version, please use 'min' instead.\n",
      "  time_slice = pd.date_range(start=target_time - pd.Timedelta(minutes=30),  # 2 previous records\n"
     ]
    },
    {
     "name": "stdout",
     "output_type": "stream",
     "text": [
      "Processing SFH12.csv...\n"
     ]
    },
    {
     "name": "stderr",
     "output_type": "stream",
     "text": [
      "C:\\Users\\mi\\AppData\\Local\\Temp\\ipykernel_25472\\2942837334.py:34: FutureWarning: 'T' is deprecated and will be removed in a future version, please use 'min' instead.\n",
      "  time_slice = pd.date_range(start=target_time - pd.Timedelta(minutes=30),  # 2 previous records\n"
     ]
    },
    {
     "name": "stdout",
     "output_type": "stream",
     "text": [
      "Processing SFH14.csv...\n"
     ]
    },
    {
     "name": "stderr",
     "output_type": "stream",
     "text": [
      "C:\\Users\\mi\\AppData\\Local\\Temp\\ipykernel_25472\\2942837334.py:34: FutureWarning: 'T' is deprecated and will be removed in a future version, please use 'min' instead.\n",
      "  time_slice = pd.date_range(start=target_time - pd.Timedelta(minutes=30),  # 2 previous records\n"
     ]
    },
    {
     "name": "stdout",
     "output_type": "stream",
     "text": [
      "Processing SFH16.csv...\n"
     ]
    },
    {
     "name": "stderr",
     "output_type": "stream",
     "text": [
      "C:\\Users\\mi\\AppData\\Local\\Temp\\ipykernel_25472\\2942837334.py:34: FutureWarning: 'T' is deprecated and will be removed in a future version, please use 'min' instead.\n",
      "  time_slice = pd.date_range(start=target_time - pd.Timedelta(minutes=30),  # 2 previous records\n"
     ]
    },
    {
     "name": "stdout",
     "output_type": "stream",
     "text": [
      "Processing SFH17.csv...\n"
     ]
    },
    {
     "name": "stderr",
     "output_type": "stream",
     "text": [
      "C:\\Users\\mi\\AppData\\Local\\Temp\\ipykernel_25472\\2942837334.py:34: FutureWarning: 'T' is deprecated and will be removed in a future version, please use 'min' instead.\n",
      "  time_slice = pd.date_range(start=target_time - pd.Timedelta(minutes=30),  # 2 previous records\n"
     ]
    },
    {
     "name": "stdout",
     "output_type": "stream",
     "text": [
      "Processing SFH18.csv...\n"
     ]
    },
    {
     "name": "stderr",
     "output_type": "stream",
     "text": [
      "C:\\Users\\mi\\AppData\\Local\\Temp\\ipykernel_25472\\2942837334.py:34: FutureWarning: 'T' is deprecated and will be removed in a future version, please use 'min' instead.\n",
      "  time_slice = pd.date_range(start=target_time - pd.Timedelta(minutes=30),  # 2 previous records\n"
     ]
    },
    {
     "name": "stdout",
     "output_type": "stream",
     "text": [
      "Processing SFH19.csv...\n"
     ]
    },
    {
     "name": "stderr",
     "output_type": "stream",
     "text": [
      "C:\\Users\\mi\\AppData\\Local\\Temp\\ipykernel_25472\\2942837334.py:34: FutureWarning: 'T' is deprecated and will be removed in a future version, please use 'min' instead.\n",
      "  time_slice = pd.date_range(start=target_time - pd.Timedelta(minutes=30),  # 2 previous records\n"
     ]
    },
    {
     "name": "stdout",
     "output_type": "stream",
     "text": [
      "Processing SFH20.csv...\n"
     ]
    },
    {
     "name": "stderr",
     "output_type": "stream",
     "text": [
      "C:\\Users\\mi\\AppData\\Local\\Temp\\ipykernel_25472\\2942837334.py:34: FutureWarning: 'T' is deprecated and will be removed in a future version, please use 'min' instead.\n",
      "  time_slice = pd.date_range(start=target_time - pd.Timedelta(minutes=30),  # 2 previous records\n"
     ]
    },
    {
     "name": "stdout",
     "output_type": "stream",
     "text": [
      "Processing SFH21.csv...\n"
     ]
    },
    {
     "name": "stderr",
     "output_type": "stream",
     "text": [
      "C:\\Users\\mi\\AppData\\Local\\Temp\\ipykernel_25472\\2942837334.py:34: FutureWarning: 'T' is deprecated and will be removed in a future version, please use 'min' instead.\n",
      "  time_slice = pd.date_range(start=target_time - pd.Timedelta(minutes=30),  # 2 previous records\n"
     ]
    },
    {
     "name": "stdout",
     "output_type": "stream",
     "text": [
      "Processing SFH22.csv...\n"
     ]
    },
    {
     "name": "stderr",
     "output_type": "stream",
     "text": [
      "C:\\Users\\mi\\AppData\\Local\\Temp\\ipykernel_25472\\2942837334.py:34: FutureWarning: 'T' is deprecated and will be removed in a future version, please use 'min' instead.\n",
      "  time_slice = pd.date_range(start=target_time - pd.Timedelta(minutes=30),  # 2 previous records\n"
     ]
    },
    {
     "name": "stdout",
     "output_type": "stream",
     "text": [
      "Processing SFH23.csv...\n"
     ]
    },
    {
     "name": "stderr",
     "output_type": "stream",
     "text": [
      "C:\\Users\\mi\\AppData\\Local\\Temp\\ipykernel_25472\\2942837334.py:34: FutureWarning: 'T' is deprecated and will be removed in a future version, please use 'min' instead.\n",
      "  time_slice = pd.date_range(start=target_time - pd.Timedelta(minutes=30),  # 2 previous records\n"
     ]
    },
    {
     "name": "stdout",
     "output_type": "stream",
     "text": [
      "Processing SFH25.csv...\n"
     ]
    },
    {
     "name": "stderr",
     "output_type": "stream",
     "text": [
      "C:\\Users\\mi\\AppData\\Local\\Temp\\ipykernel_25472\\2942837334.py:34: FutureWarning: 'T' is deprecated and will be removed in a future version, please use 'min' instead.\n",
      "  time_slice = pd.date_range(start=target_time - pd.Timedelta(minutes=30),  # 2 previous records\n"
     ]
    },
    {
     "name": "stdout",
     "output_type": "stream",
     "text": [
      "Processing SFH27.csv...\n"
     ]
    },
    {
     "name": "stderr",
     "output_type": "stream",
     "text": [
      "C:\\Users\\mi\\AppData\\Local\\Temp\\ipykernel_25472\\2942837334.py:34: FutureWarning: 'T' is deprecated and will be removed in a future version, please use 'min' instead.\n",
      "  time_slice = pd.date_range(start=target_time - pd.Timedelta(minutes=30),  # 2 previous records\n"
     ]
    },
    {
     "name": "stdout",
     "output_type": "stream",
     "text": [
      "Processing SFH28.csv...\n"
     ]
    },
    {
     "name": "stderr",
     "output_type": "stream",
     "text": [
      "C:\\Users\\mi\\AppData\\Local\\Temp\\ipykernel_25472\\2942837334.py:34: FutureWarning: 'T' is deprecated and will be removed in a future version, please use 'min' instead.\n",
      "  time_slice = pd.date_range(start=target_time - pd.Timedelta(minutes=30),  # 2 previous records\n"
     ]
    },
    {
     "name": "stdout",
     "output_type": "stream",
     "text": [
      "Processing SFH29.csv...\n"
     ]
    },
    {
     "name": "stderr",
     "output_type": "stream",
     "text": [
      "C:\\Users\\mi\\AppData\\Local\\Temp\\ipykernel_25472\\2942837334.py:34: FutureWarning: 'T' is deprecated and will be removed in a future version, please use 'min' instead.\n",
      "  time_slice = pd.date_range(start=target_time - pd.Timedelta(minutes=30),  # 2 previous records\n"
     ]
    },
    {
     "name": "stdout",
     "output_type": "stream",
     "text": [
      "Processing SFH3.csv...\n"
     ]
    },
    {
     "name": "stderr",
     "output_type": "stream",
     "text": [
      "C:\\Users\\mi\\AppData\\Local\\Temp\\ipykernel_25472\\2942837334.py:34: FutureWarning: 'T' is deprecated and will be removed in a future version, please use 'min' instead.\n",
      "  time_slice = pd.date_range(start=target_time - pd.Timedelta(minutes=30),  # 2 previous records\n"
     ]
    },
    {
     "name": "stdout",
     "output_type": "stream",
     "text": [
      "Processing SFH30.csv...\n"
     ]
    },
    {
     "name": "stderr",
     "output_type": "stream",
     "text": [
      "C:\\Users\\mi\\AppData\\Local\\Temp\\ipykernel_25472\\2942837334.py:34: FutureWarning: 'T' is deprecated and will be removed in a future version, please use 'min' instead.\n",
      "  time_slice = pd.date_range(start=target_time - pd.Timedelta(minutes=30),  # 2 previous records\n"
     ]
    },
    {
     "name": "stdout",
     "output_type": "stream",
     "text": [
      "Processing SFH31.csv...\n"
     ]
    },
    {
     "name": "stderr",
     "output_type": "stream",
     "text": [
      "C:\\Users\\mi\\AppData\\Local\\Temp\\ipykernel_25472\\2942837334.py:34: FutureWarning: 'T' is deprecated and will be removed in a future version, please use 'min' instead.\n",
      "  time_slice = pd.date_range(start=target_time - pd.Timedelta(minutes=30),  # 2 previous records\n"
     ]
    },
    {
     "name": "stdout",
     "output_type": "stream",
     "text": [
      "Processing SFH32.csv...\n"
     ]
    },
    {
     "name": "stderr",
     "output_type": "stream",
     "text": [
      "C:\\Users\\mi\\AppData\\Local\\Temp\\ipykernel_25472\\2942837334.py:34: FutureWarning: 'T' is deprecated and will be removed in a future version, please use 'min' instead.\n",
      "  time_slice = pd.date_range(start=target_time - pd.Timedelta(minutes=30),  # 2 previous records\n"
     ]
    },
    {
     "name": "stdout",
     "output_type": "stream",
     "text": [
      "Processing SFH34.csv...\n"
     ]
    },
    {
     "name": "stderr",
     "output_type": "stream",
     "text": [
      "C:\\Users\\mi\\AppData\\Local\\Temp\\ipykernel_25472\\2942837334.py:34: FutureWarning: 'T' is deprecated and will be removed in a future version, please use 'min' instead.\n",
      "  time_slice = pd.date_range(start=target_time - pd.Timedelta(minutes=30),  # 2 previous records\n"
     ]
    },
    {
     "name": "stdout",
     "output_type": "stream",
     "text": [
      "Processing SFH35.csv...\n"
     ]
    },
    {
     "name": "stderr",
     "output_type": "stream",
     "text": [
      "C:\\Users\\mi\\AppData\\Local\\Temp\\ipykernel_25472\\2942837334.py:34: FutureWarning: 'T' is deprecated and will be removed in a future version, please use 'min' instead.\n",
      "  time_slice = pd.date_range(start=target_time - pd.Timedelta(minutes=30),  # 2 previous records\n"
     ]
    },
    {
     "name": "stdout",
     "output_type": "stream",
     "text": [
      "Processing SFH36.csv...\n"
     ]
    },
    {
     "name": "stderr",
     "output_type": "stream",
     "text": [
      "C:\\Users\\mi\\AppData\\Local\\Temp\\ipykernel_25472\\2942837334.py:34: FutureWarning: 'T' is deprecated and will be removed in a future version, please use 'min' instead.\n",
      "  time_slice = pd.date_range(start=target_time - pd.Timedelta(minutes=30),  # 2 previous records\n"
     ]
    },
    {
     "name": "stdout",
     "output_type": "stream",
     "text": [
      "Processing SFH37.csv...\n"
     ]
    },
    {
     "name": "stderr",
     "output_type": "stream",
     "text": [
      "C:\\Users\\mi\\AppData\\Local\\Temp\\ipykernel_25472\\2942837334.py:34: FutureWarning: 'T' is deprecated and will be removed in a future version, please use 'min' instead.\n",
      "  time_slice = pd.date_range(start=target_time - pd.Timedelta(minutes=30),  # 2 previous records\n"
     ]
    },
    {
     "name": "stdout",
     "output_type": "stream",
     "text": [
      "Processing SFH38.csv...\n"
     ]
    },
    {
     "name": "stderr",
     "output_type": "stream",
     "text": [
      "C:\\Users\\mi\\AppData\\Local\\Temp\\ipykernel_25472\\2942837334.py:34: FutureWarning: 'T' is deprecated and will be removed in a future version, please use 'min' instead.\n",
      "  time_slice = pd.date_range(start=target_time - pd.Timedelta(minutes=30),  # 2 previous records\n"
     ]
    },
    {
     "name": "stdout",
     "output_type": "stream",
     "text": [
      "Processing SFH39.csv...\n"
     ]
    },
    {
     "name": "stderr",
     "output_type": "stream",
     "text": [
      "C:\\Users\\mi\\AppData\\Local\\Temp\\ipykernel_25472\\2942837334.py:34: FutureWarning: 'T' is deprecated and will be removed in a future version, please use 'min' instead.\n",
      "  time_slice = pd.date_range(start=target_time - pd.Timedelta(minutes=30),  # 2 previous records\n"
     ]
    },
    {
     "name": "stdout",
     "output_type": "stream",
     "text": [
      "Processing SFH4.csv...\n"
     ]
    },
    {
     "name": "stderr",
     "output_type": "stream",
     "text": [
      "C:\\Users\\mi\\AppData\\Local\\Temp\\ipykernel_25472\\2942837334.py:34: FutureWarning: 'T' is deprecated and will be removed in a future version, please use 'min' instead.\n",
      "  time_slice = pd.date_range(start=target_time - pd.Timedelta(minutes=30),  # 2 previous records\n"
     ]
    },
    {
     "name": "stdout",
     "output_type": "stream",
     "text": [
      "Processing SFH40.csv...\n"
     ]
    },
    {
     "name": "stderr",
     "output_type": "stream",
     "text": [
      "C:\\Users\\mi\\AppData\\Local\\Temp\\ipykernel_25472\\2942837334.py:34: FutureWarning: 'T' is deprecated and will be removed in a future version, please use 'min' instead.\n",
      "  time_slice = pd.date_range(start=target_time - pd.Timedelta(minutes=30),  # 2 previous records\n"
     ]
    },
    {
     "name": "stdout",
     "output_type": "stream",
     "text": [
      "Processing SFH5.csv...\n"
     ]
    },
    {
     "name": "stderr",
     "output_type": "stream",
     "text": [
      "C:\\Users\\mi\\AppData\\Local\\Temp\\ipykernel_25472\\2942837334.py:34: FutureWarning: 'T' is deprecated and will be removed in a future version, please use 'min' instead.\n",
      "  time_slice = pd.date_range(start=target_time - pd.Timedelta(minutes=30),  # 2 previous records\n"
     ]
    },
    {
     "name": "stdout",
     "output_type": "stream",
     "text": [
      "Processing SFH6.csv...\n"
     ]
    },
    {
     "name": "stderr",
     "output_type": "stream",
     "text": [
      "C:\\Users\\mi\\AppData\\Local\\Temp\\ipykernel_25472\\2942837334.py:34: FutureWarning: 'T' is deprecated and will be removed in a future version, please use 'min' instead.\n",
      "  time_slice = pd.date_range(start=target_time - pd.Timedelta(minutes=30),  # 2 previous records\n"
     ]
    },
    {
     "name": "stdout",
     "output_type": "stream",
     "text": [
      "Processing SFH7.csv...\n"
     ]
    },
    {
     "name": "stderr",
     "output_type": "stream",
     "text": [
      "C:\\Users\\mi\\AppData\\Local\\Temp\\ipykernel_25472\\2942837334.py:34: FutureWarning: 'T' is deprecated and will be removed in a future version, please use 'min' instead.\n",
      "  time_slice = pd.date_range(start=target_time - pd.Timedelta(minutes=30),  # 2 previous records\n"
     ]
    },
    {
     "name": "stdout",
     "output_type": "stream",
     "text": [
      "Processing SFH8.csv...\n"
     ]
    },
    {
     "name": "stderr",
     "output_type": "stream",
     "text": [
      "C:\\Users\\mi\\AppData\\Local\\Temp\\ipykernel_25472\\2942837334.py:34: FutureWarning: 'T' is deprecated and will be removed in a future version, please use 'min' instead.\n",
      "  time_slice = pd.date_range(start=target_time - pd.Timedelta(minutes=30),  # 2 previous records\n"
     ]
    },
    {
     "name": "stdout",
     "output_type": "stream",
     "text": [
      "Processing SFH9.csv...\n"
     ]
    },
    {
     "name": "stderr",
     "output_type": "stream",
     "text": [
      "C:\\Users\\mi\\AppData\\Local\\Temp\\ipykernel_25472\\2942837334.py:34: FutureWarning: 'T' is deprecated and will be removed in a future version, please use 'min' instead.\n",
      "  time_slice = pd.date_range(start=target_time - pd.Timedelta(minutes=30),  # 2 previous records\n"
     ]
    },
    {
     "name": "stdout",
     "output_type": "stream",
     "text": [
      "✅ All files processed.\n",
      "📁 Combined file saved as 'all_households_smoothed.csv'\n"
     ]
    }
   ],
   "source": [
    "import pandas as pd\n",
    "import numpy as np\n",
    "import os\n",
    "import re\n",
    "# Path to folder containing all 33 CSVs\n",
    "data_folder = 'D:\\\\Dortmund\\\\Case Study\\\\Data'  # Update to your actual path\n",
    "file_list = [f for f in os.listdir(data_folder) if f.endswith('.csv')]\n",
    "\n",
    "# To store results for each file\n",
    "all_smoothed_dfs = {}\n",
    "\n",
    "# Process each CSV file\n",
    "for file in file_list:  # Update to process all files as needed\n",
    "    print(f\"Processing {file}...\")\n",
    "    \n",
    "    # Read the file\n",
    "    df = pd.read_csv(os.path.join(data_folder, file))\n",
    "    df = df.rename(columns={'index': 'timestamp'})\n",
    "    df = df[['timestamp', 'HAUSHALT_TOT']]\n",
    "\n",
    "    # Step 1: Fix time format and set the index to timestamp\n",
    "    df['timestamp'] = pd.to_datetime(df['timestamp'])\n",
    "    df.set_index('timestamp', inplace=True)\n",
    "\n",
    "    # Step 2: Create rolling averages per hour, including past and future 2 records\n",
    "    result = []\n",
    "    for date, group in df.groupby(df.index.date):\n",
    "        row = {}\n",
    "        \n",
    "        for h in range(24):\n",
    "            target_time = pd.Timestamp(f'{date} {h:02d}:00:00')\n",
    "            \n",
    "            # Create time slice including past 2 records and future 2 records\n",
    "            time_slice = pd.date_range(start=target_time - pd.Timedelta(minutes=30),  # 2 previous records\n",
    "                                       end=target_time + pd.Timedelta(minutes=30),    # 2 future records\n",
    "                                       freq='15T')\n",
    "            try:\n",
    "                values = df.loc[time_slice, 'HAUSHALT_TOT']\n",
    "                row[f'ya_{h}'] = values.mean()  # Calculate average of all 7 values (2 past + current + 2 future)\n",
    "            except KeyError:\n",
    "                row[f'ya_{h}'] = np.nan  # Handle missing values if there's a problem with time slice\n",
    "            #values = df.loc[time_slice, 'HAUSHALT_TOT']\n",
    "            #row[f'ya_{h}'] = values.mean()  # Calculate average of all 7 values (2 past + current + 2 future)\n",
    "            #except KeyError:\n",
    "            #    row[f'ya_{h}'] = np.nan  # Handle missing values if there's a problem with time slice\n",
    "                \n",
    "        result.append(row)\n",
    "    \n",
    "    # Final DataFrame after averaging\n",
    "    final_df = pd.DataFrame(result)\n",
    "    final_df.index = pd.date_range(start=df.index.min().date(), periods=len(final_df), freq='D')\n",
    "    final_df.index.name = 'date'\n",
    "    final_df.reset_index(inplace=True)\n",
    "\n",
    "    # Step 3: Add weekday info\n",
    "    final_df['date'] = pd.to_datetime(final_df['date'])\n",
    "    final_df['weekday'] = final_df['date'].dt.weekday\n",
    "\n",
    "    # Step 4: Smoothing using ±2 weeks of same weekday\n",
    "    def get_smoothed_row(df, current_index):\n",
    "        row = {}\n",
    "        current_date = df.loc[current_index, 'date']\n",
    "        current_weekday = df.loc[current_index, 'weekday']\n",
    "        date_range = [\n",
    "            current_date - pd.Timedelta(weeks=2),\n",
    "            current_date - pd.Timedelta(weeks=1),\n",
    "            current_date,\n",
    "            current_date + pd.Timedelta(weeks=1),\n",
    "            current_date + pd.Timedelta(weeks=2)\n",
    "        ]\n",
    "        matching_rows = df[df['date'].isin(date_range)]\n",
    "        for h in range(24):\n",
    "            col = f'ya_{h}'\n",
    "            row[f'yb_{h}'] = matching_rows[col].mean() if col in matching_rows else np.nan\n",
    "        return row\n",
    "\n",
    "    smoothed_data = []\n",
    "    for i in range(len(final_df)):\n",
    "        smoothed_row = get_smoothed_row(final_df, i)\n",
    "        smoothed_data.append(smoothed_row)\n",
    "\n",
    "    smoothed_df = pd.DataFrame(smoothed_data)\n",
    "    smoothed_df.index = final_df['date']\n",
    "\n",
    "    household_id = re.findall(r'\\d+', file)\n",
    "    smoothed_df['household'] = int(household_id[0]) if household_id else None\n",
    "\n",
    "    # Store the smoothed DataFrame in the dictionary\n",
    "    all_smoothed_dfs[file.replace('.csv', '')] = smoothed_df\n",
    "\n",
    "    # Optional: Save each smoothed DataFrame as a CSV (individual files)\n",
    "    smoothed_df.to_csv(os.path.join(data_folder, f'smoothed_{file}'))\n",
    "\n",
    "print(\"✅ All files processed.\")\n",
    "\n",
    "# 1. Combine all DataFrames into one with household column\n",
    "combined_df = []\n",
    "\n",
    "for name, df in all_smoothed_dfs.items():\n",
    "    df = df.copy()\n",
    "    df['household'] = name  # Add household identifier\n",
    "    combined_df.append(df)\n",
    "\n",
    "# 2. Concatenate all dataframes into one final DataFrame\n",
    "final_combined_df = pd.concat(combined_df)\n",
    "final_combined_df.reset_index(inplace=True)  # Reset the index to make 'date' a column\n",
    "\n",
    "# 3. Merge `ya_*` and `yb_*` columns based on date\n",
    "final_combined_df = final_combined_df.merge(final_df[['date'] + [f'ya_{h}' for h in range(24)]], \n",
    "                                            on='date', \n",
    "                                            how='left')\n",
    "\n",
    "# 4. Save the combined DataFrame to a single CSV\n",
    "final_combined_df.to_csv(os.path.join(data_folder, 'all_households_smoothed.csv'), index=False)\n",
    "\n",
    "print(\"📁 Combined file saved as 'all_households_smoothed.csv'\")"
   ]
  },
  {
   "cell_type": "code",
   "execution_count": null,
   "id": "3d0603e0-0fcc-4fcf-aba2-ab25484499ba",
   "metadata": {},
   "outputs": [],
   "source": []
  },
  {
   "cell_type": "code",
   "execution_count": 18,
   "id": "17f34b1b-1d28-435c-a450-5116efa01c9c",
   "metadata": {},
   "outputs": [],
   "source": [
    "final_combined_df = final_combined_df[['date','ya_0', 'ya_1', 'ya_2', 'ya_3', 'ya_4', 'ya_5', 'ya_6',\n",
    "       'ya_7', 'ya_8', 'ya_9', 'ya_10', 'ya_11', 'ya_12', 'ya_13', 'ya_14',\n",
    "       'ya_15', 'ya_16', 'ya_17', 'ya_18', 'ya_19', 'ya_20', 'ya_21', 'ya_22',\n",
    "       'ya_23','yb_0', 'yb_1', 'yb_2', 'yb_3', 'yb_4', 'yb_5', 'yb_6', 'yb_7',\n",
    "       'yb_8', 'yb_9', 'yb_10', 'yb_11', 'yb_12', 'yb_13', 'yb_14', 'yb_15',\n",
    "       'yb_16', 'yb_17', 'yb_18', 'yb_19', 'yb_20', 'yb_21', 'yb_22', 'yb_23',\n",
    "       'household']]"
   ]
  },
  {
   "cell_type": "code",
   "execution_count": 19,
   "id": "e08fc87e-a97b-4e64-b1eb-3d1171907c06",
   "metadata": {},
   "outputs": [
    {
     "data": {
      "text/html": [
       "<div>\n",
       "<style scoped>\n",
       "    .dataframe tbody tr th:only-of-type {\n",
       "        vertical-align: middle;\n",
       "    }\n",
       "\n",
       "    .dataframe tbody tr th {\n",
       "        vertical-align: top;\n",
       "    }\n",
       "\n",
       "    .dataframe thead th {\n",
       "        text-align: right;\n",
       "    }\n",
       "</style>\n",
       "<table border=\"1\" class=\"dataframe\">\n",
       "  <thead>\n",
       "    <tr style=\"text-align: right;\">\n",
       "      <th></th>\n",
       "      <th>date</th>\n",
       "      <th>ya_0</th>\n",
       "      <th>ya_1</th>\n",
       "      <th>ya_2</th>\n",
       "      <th>ya_3</th>\n",
       "      <th>ya_4</th>\n",
       "      <th>ya_5</th>\n",
       "      <th>ya_6</th>\n",
       "      <th>ya_7</th>\n",
       "      <th>ya_8</th>\n",
       "      <th>ya_9</th>\n",
       "      <th>ya_10</th>\n",
       "      <th>ya_11</th>\n",
       "      <th>ya_12</th>\n",
       "      <th>ya_13</th>\n",
       "      <th>ya_14</th>\n",
       "      <th>ya_15</th>\n",
       "      <th>ya_16</th>\n",
       "      <th>ya_17</th>\n",
       "      <th>ya_18</th>\n",
       "      <th>ya_19</th>\n",
       "      <th>ya_20</th>\n",
       "      <th>ya_21</th>\n",
       "      <th>ya_22</th>\n",
       "      <th>ya_23</th>\n",
       "      <th>yb_0</th>\n",
       "      <th>yb_1</th>\n",
       "      <th>yb_2</th>\n",
       "      <th>yb_3</th>\n",
       "      <th>yb_4</th>\n",
       "      <th>yb_5</th>\n",
       "      <th>yb_6</th>\n",
       "      <th>yb_7</th>\n",
       "      <th>yb_8</th>\n",
       "      <th>yb_9</th>\n",
       "      <th>yb_10</th>\n",
       "      <th>yb_11</th>\n",
       "      <th>yb_12</th>\n",
       "      <th>yb_13</th>\n",
       "      <th>yb_14</th>\n",
       "      <th>yb_15</th>\n",
       "      <th>yb_16</th>\n",
       "      <th>yb_17</th>\n",
       "      <th>yb_18</th>\n",
       "      <th>yb_19</th>\n",
       "      <th>yb_20</th>\n",
       "      <th>yb_21</th>\n",
       "      <th>yb_22</th>\n",
       "      <th>yb_23</th>\n",
       "      <th>household</th>\n",
       "    </tr>\n",
       "  </thead>\n",
       "  <tbody>\n",
       "    <tr>\n",
       "      <th>0</th>\n",
       "      <td>2019-01-01</td>\n",
       "      <td>NaN</td>\n",
       "      <td>258.623868</td>\n",
       "      <td>219.704170</td>\n",
       "      <td>NaN</td>\n",
       "      <td>NaN</td>\n",
       "      <td>NaN</td>\n",
       "      <td>NaN</td>\n",
       "      <td>NaN</td>\n",
       "      <td>NaN</td>\n",
       "      <td>NaN</td>\n",
       "      <td>NaN</td>\n",
       "      <td>NaN</td>\n",
       "      <td>751.341178</td>\n",
       "      <td>NaN</td>\n",
       "      <td>NaN</td>\n",
       "      <td>NaN</td>\n",
       "      <td>NaN</td>\n",
       "      <td>1469.909821</td>\n",
       "      <td>NaN</td>\n",
       "      <td>1098.064711</td>\n",
       "      <td>1724.732556</td>\n",
       "      <td>NaN</td>\n",
       "      <td>NaN</td>\n",
       "      <td>NaN</td>\n",
       "      <td>826.489743</td>\n",
       "      <td>799.064586</td>\n",
       "      <td>655.410763</td>\n",
       "      <td>361.739778</td>\n",
       "      <td>353.541245</td>\n",
       "      <td>457.969822</td>\n",
       "      <td>373.327867</td>\n",
       "      <td>397.389734</td>\n",
       "      <td>428.594011</td>\n",
       "      <td>449.354777</td>\n",
       "      <td>548.793967</td>\n",
       "      <td>433.749401</td>\n",
       "      <td>485.933822</td>\n",
       "      <td>523.325278</td>\n",
       "      <td>533.719757</td>\n",
       "      <td>585.885410</td>\n",
       "      <td>1145.520611</td>\n",
       "      <td>1278.981621</td>\n",
       "      <td>687.871134</td>\n",
       "      <td>635.505304</td>\n",
       "      <td>675.393873</td>\n",
       "      <td>607.006912</td>\n",
       "      <td>667.906901</td>\n",
       "      <td>883.808511</td>\n",
       "      <td>SFH10</td>\n",
       "    </tr>\n",
       "    <tr>\n",
       "      <th>1</th>\n",
       "      <td>2019-01-02</td>\n",
       "      <td>NaN</td>\n",
       "      <td>NaN</td>\n",
       "      <td>NaN</td>\n",
       "      <td>NaN</td>\n",
       "      <td>NaN</td>\n",
       "      <td>NaN</td>\n",
       "      <td>NaN</td>\n",
       "      <td>149.108422</td>\n",
       "      <td>191.580600</td>\n",
       "      <td>366.615777</td>\n",
       "      <td>270.086978</td>\n",
       "      <td>606.604199</td>\n",
       "      <td>1504.291818</td>\n",
       "      <td>843.867133</td>\n",
       "      <td>630.696224</td>\n",
       "      <td>353.070955</td>\n",
       "      <td>385.870799</td>\n",
       "      <td>288.108600</td>\n",
       "      <td>448.902512</td>\n",
       "      <td>404.847334</td>\n",
       "      <td>411.934733</td>\n",
       "      <td>489.618933</td>\n",
       "      <td>182.064111</td>\n",
       "      <td>197.513556</td>\n",
       "      <td>909.217434</td>\n",
       "      <td>800.747231</td>\n",
       "      <td>553.882554</td>\n",
       "      <td>359.861722</td>\n",
       "      <td>338.943245</td>\n",
       "      <td>450.440045</td>\n",
       "      <td>431.531445</td>\n",
       "      <td>433.061301</td>\n",
       "      <td>384.368011</td>\n",
       "      <td>400.904156</td>\n",
       "      <td>439.642634</td>\n",
       "      <td>644.664201</td>\n",
       "      <td>644.722101</td>\n",
       "      <td>532.810999</td>\n",
       "      <td>925.792521</td>\n",
       "      <td>536.858800</td>\n",
       "      <td>867.671589</td>\n",
       "      <td>792.443170</td>\n",
       "      <td>1188.946257</td>\n",
       "      <td>1050.928166</td>\n",
       "      <td>1191.879457</td>\n",
       "      <td>711.292833</td>\n",
       "      <td>808.901385</td>\n",
       "      <td>492.270366</td>\n",
       "      <td>SFH10</td>\n",
       "    </tr>\n",
       "    <tr>\n",
       "      <th>2</th>\n",
       "      <td>2019-01-03</td>\n",
       "      <td>145.748978</td>\n",
       "      <td>163.525333</td>\n",
       "      <td>226.149044</td>\n",
       "      <td>201.983711</td>\n",
       "      <td>543.307579</td>\n",
       "      <td>NaN</td>\n",
       "      <td>274.448956</td>\n",
       "      <td>NaN</td>\n",
       "      <td>NaN</td>\n",
       "      <td>326.258799</td>\n",
       "      <td>415.855866</td>\n",
       "      <td>369.822511</td>\n",
       "      <td>750.459356</td>\n",
       "      <td>961.654268</td>\n",
       "      <td>811.846267</td>\n",
       "      <td>190.941222</td>\n",
       "      <td>438.684089</td>\n",
       "      <td>528.361710</td>\n",
       "      <td>389.644022</td>\n",
       "      <td>592.646155</td>\n",
       "      <td>403.165534</td>\n",
       "      <td>467.790711</td>\n",
       "      <td>234.986422</td>\n",
       "      <td>116.480244</td>\n",
       "      <td>518.288777</td>\n",
       "      <td>468.490090</td>\n",
       "      <td>421.932208</td>\n",
       "      <td>419.282022</td>\n",
       "      <td>362.024789</td>\n",
       "      <td>517.880267</td>\n",
       "      <td>386.609255</td>\n",
       "      <td>346.134422</td>\n",
       "      <td>364.867778</td>\n",
       "      <td>450.966059</td>\n",
       "      <td>672.452355</td>\n",
       "      <td>562.625590</td>\n",
       "      <td>481.056478</td>\n",
       "      <td>500.266156</td>\n",
       "      <td>615.716341</td>\n",
       "      <td>460.239430</td>\n",
       "      <td>646.382534</td>\n",
       "      <td>1158.986665</td>\n",
       "      <td>638.477901</td>\n",
       "      <td>693.508393</td>\n",
       "      <td>647.032660</td>\n",
       "      <td>662.172935</td>\n",
       "      <td>899.004444</td>\n",
       "      <td>633.310082</td>\n",
       "      <td>SFH10</td>\n",
       "    </tr>\n",
       "    <tr>\n",
       "      <th>3</th>\n",
       "      <td>2019-01-04</td>\n",
       "      <td>255.325156</td>\n",
       "      <td>176.847378</td>\n",
       "      <td>184.346200</td>\n",
       "      <td>140.751845</td>\n",
       "      <td>124.090267</td>\n",
       "      <td>209.358578</td>\n",
       "      <td>266.956645</td>\n",
       "      <td>623.385441</td>\n",
       "      <td>1469.786666</td>\n",
       "      <td>706.686709</td>\n",
       "      <td>741.229623</td>\n",
       "      <td>938.705468</td>\n",
       "      <td>478.143110</td>\n",
       "      <td>239.225267</td>\n",
       "      <td>228.493845</td>\n",
       "      <td>2160.622310</td>\n",
       "      <td>2833.751402</td>\n",
       "      <td>1332.293935</td>\n",
       "      <td>1019.141622</td>\n",
       "      <td>562.583333</td>\n",
       "      <td>1419.830268</td>\n",
       "      <td>622.953754</td>\n",
       "      <td>479.983977</td>\n",
       "      <td>302.765823</td>\n",
       "      <td>541.188289</td>\n",
       "      <td>522.967126</td>\n",
       "      <td>397.111178</td>\n",
       "      <td>386.849400</td>\n",
       "      <td>369.032244</td>\n",
       "      <td>481.644166</td>\n",
       "      <td>432.814511</td>\n",
       "      <td>379.897789</td>\n",
       "      <td>373.754193</td>\n",
       "      <td>433.916045</td>\n",
       "      <td>719.502623</td>\n",
       "      <td>696.330385</td>\n",
       "      <td>501.350814</td>\n",
       "      <td>553.276089</td>\n",
       "      <td>507.981200</td>\n",
       "      <td>556.601008</td>\n",
       "      <td>751.320251</td>\n",
       "      <td>1245.592726</td>\n",
       "      <td>691.497563</td>\n",
       "      <td>663.494822</td>\n",
       "      <td>650.762378</td>\n",
       "      <td>788.039912</td>\n",
       "      <td>719.085340</td>\n",
       "      <td>782.697074</td>\n",
       "      <td>SFH10</td>\n",
       "    </tr>\n",
       "    <tr>\n",
       "      <th>4</th>\n",
       "      <td>2019-01-05</td>\n",
       "      <td>184.656933</td>\n",
       "      <td>141.606488</td>\n",
       "      <td>185.821444</td>\n",
       "      <td>141.884689</td>\n",
       "      <td>258.689623</td>\n",
       "      <td>204.359133</td>\n",
       "      <td>120.200822</td>\n",
       "      <td>179.790378</td>\n",
       "      <td>973.634401</td>\n",
       "      <td>1027.132490</td>\n",
       "      <td>1457.095599</td>\n",
       "      <td>1640.525335</td>\n",
       "      <td>1553.097307</td>\n",
       "      <td>1650.000492</td>\n",
       "      <td>1099.136291</td>\n",
       "      <td>1217.742687</td>\n",
       "      <td>761.470555</td>\n",
       "      <td>420.153756</td>\n",
       "      <td>355.684622</td>\n",
       "      <td>372.935844</td>\n",
       "      <td>436.748466</td>\n",
       "      <td>411.924156</td>\n",
       "      <td>351.244333</td>\n",
       "      <td>295.922644</td>\n",
       "      <td>876.004052</td>\n",
       "      <td>507.004104</td>\n",
       "      <td>495.996326</td>\n",
       "      <td>397.420244</td>\n",
       "      <td>363.212704</td>\n",
       "      <td>351.400030</td>\n",
       "      <td>415.326696</td>\n",
       "      <td>362.464778</td>\n",
       "      <td>449.898726</td>\n",
       "      <td>538.435260</td>\n",
       "      <td>642.822378</td>\n",
       "      <td>1032.368709</td>\n",
       "      <td>804.605904</td>\n",
       "      <td>669.370208</td>\n",
       "      <td>719.422082</td>\n",
       "      <td>744.053489</td>\n",
       "      <td>712.233319</td>\n",
       "      <td>1167.841445</td>\n",
       "      <td>836.863142</td>\n",
       "      <td>737.265156</td>\n",
       "      <td>666.164386</td>\n",
       "      <td>694.065156</td>\n",
       "      <td>851.967979</td>\n",
       "      <td>791.345155</td>\n",
       "      <td>SFH10</td>\n",
       "    </tr>\n",
       "  </tbody>\n",
       "</table>\n",
       "</div>"
      ],
      "text/plain": [
       "        date        ya_0        ya_1        ya_2        ya_3        ya_4  \\\n",
       "0 2019-01-01         NaN  258.623868  219.704170         NaN         NaN   \n",
       "1 2019-01-02         NaN         NaN         NaN         NaN         NaN   \n",
       "2 2019-01-03  145.748978  163.525333  226.149044  201.983711  543.307579   \n",
       "3 2019-01-04  255.325156  176.847378  184.346200  140.751845  124.090267   \n",
       "4 2019-01-05  184.656933  141.606488  185.821444  141.884689  258.689623   \n",
       "\n",
       "         ya_5        ya_6        ya_7         ya_8         ya_9        ya_10  \\\n",
       "0         NaN         NaN         NaN          NaN          NaN          NaN   \n",
       "1         NaN         NaN  149.108422   191.580600   366.615777   270.086978   \n",
       "2         NaN  274.448956         NaN          NaN   326.258799   415.855866   \n",
       "3  209.358578  266.956645  623.385441  1469.786666   706.686709   741.229623   \n",
       "4  204.359133  120.200822  179.790378   973.634401  1027.132490  1457.095599   \n",
       "\n",
       "         ya_11        ya_12        ya_13        ya_14        ya_15  \\\n",
       "0          NaN   751.341178          NaN          NaN          NaN   \n",
       "1   606.604199  1504.291818   843.867133   630.696224   353.070955   \n",
       "2   369.822511   750.459356   961.654268   811.846267   190.941222   \n",
       "3   938.705468   478.143110   239.225267   228.493845  2160.622310   \n",
       "4  1640.525335  1553.097307  1650.000492  1099.136291  1217.742687   \n",
       "\n",
       "         ya_16        ya_17        ya_18        ya_19        ya_20  \\\n",
       "0          NaN  1469.909821          NaN  1098.064711  1724.732556   \n",
       "1   385.870799   288.108600   448.902512   404.847334   411.934733   \n",
       "2   438.684089   528.361710   389.644022   592.646155   403.165534   \n",
       "3  2833.751402  1332.293935  1019.141622   562.583333  1419.830268   \n",
       "4   761.470555   420.153756   355.684622   372.935844   436.748466   \n",
       "\n",
       "        ya_21       ya_22       ya_23        yb_0        yb_1        yb_2  \\\n",
       "0         NaN         NaN         NaN  826.489743  799.064586  655.410763   \n",
       "1  489.618933  182.064111  197.513556  909.217434  800.747231  553.882554   \n",
       "2  467.790711  234.986422  116.480244  518.288777  468.490090  421.932208   \n",
       "3  622.953754  479.983977  302.765823  541.188289  522.967126  397.111178   \n",
       "4  411.924156  351.244333  295.922644  876.004052  507.004104  495.996326   \n",
       "\n",
       "         yb_3        yb_4        yb_5        yb_6        yb_7        yb_8  \\\n",
       "0  361.739778  353.541245  457.969822  373.327867  397.389734  428.594011   \n",
       "1  359.861722  338.943245  450.440045  431.531445  433.061301  384.368011   \n",
       "2  419.282022  362.024789  517.880267  386.609255  346.134422  364.867778   \n",
       "3  386.849400  369.032244  481.644166  432.814511  379.897789  373.754193   \n",
       "4  397.420244  363.212704  351.400030  415.326696  362.464778  449.898726   \n",
       "\n",
       "         yb_9       yb_10        yb_11       yb_12       yb_13       yb_14  \\\n",
       "0  449.354777  548.793967   433.749401  485.933822  523.325278  533.719757   \n",
       "1  400.904156  439.642634   644.664201  644.722101  532.810999  925.792521   \n",
       "2  450.966059  672.452355   562.625590  481.056478  500.266156  615.716341   \n",
       "3  433.916045  719.502623   696.330385  501.350814  553.276089  507.981200   \n",
       "4  538.435260  642.822378  1032.368709  804.605904  669.370208  719.422082   \n",
       "\n",
       "        yb_15        yb_16        yb_17        yb_18        yb_19  \\\n",
       "0  585.885410  1145.520611  1278.981621   687.871134   635.505304   \n",
       "1  536.858800   867.671589   792.443170  1188.946257  1050.928166   \n",
       "2  460.239430   646.382534  1158.986665   638.477901   693.508393   \n",
       "3  556.601008   751.320251  1245.592726   691.497563   663.494822   \n",
       "4  744.053489   712.233319  1167.841445   836.863142   737.265156   \n",
       "\n",
       "         yb_20       yb_21       yb_22       yb_23 household  \n",
       "0   675.393873  607.006912  667.906901  883.808511     SFH10  \n",
       "1  1191.879457  711.292833  808.901385  492.270366     SFH10  \n",
       "2   647.032660  662.172935  899.004444  633.310082     SFH10  \n",
       "3   650.762378  788.039912  719.085340  782.697074     SFH10  \n",
       "4   666.164386  694.065156  851.967979  791.345155     SFH10  "
      ]
     },
     "execution_count": 19,
     "metadata": {},
     "output_type": "execute_result"
    }
   ],
   "source": [
    "pd.set_option('display.max_columns', 500)\n",
    "final_combined_df.head()"
   ]
  },
  {
   "cell_type": "code",
   "execution_count": 28,
   "id": "cbe5796a-e1eb-471a-b79f-f2233cd06ad8",
   "metadata": {},
   "outputs": [],
   "source": [
    "final_combined_df['household'] = final_combined_df['household'].apply(lambda x: int(x.split('H')[1]))"
   ]
  },
  {
   "cell_type": "code",
   "execution_count": null,
   "id": "d4ecb013-33a1-4c90-ae9c-c5c4d002963e",
   "metadata": {},
   "outputs": [],
   "source": []
  },
  {
   "cell_type": "code",
   "execution_count": null,
   "id": "c0cf8e8b-f5ed-4872-b91b-0afba6039931",
   "metadata": {},
   "outputs": [],
   "source": []
  }
 ],
 "metadata": {
  "kernelspec": {
   "display_name": "case_study",
   "language": "python",
   "name": "case_study"
  },
  "language_info": {
   "codemirror_mode": {
    "name": "ipython",
    "version": 3
   },
   "file_extension": ".py",
   "mimetype": "text/x-python",
   "name": "python",
   "nbconvert_exporter": "python",
   "pygments_lexer": "ipython3",
   "version": "3.12.4"
  }
 },
 "nbformat": 4,
 "nbformat_minor": 5
}
